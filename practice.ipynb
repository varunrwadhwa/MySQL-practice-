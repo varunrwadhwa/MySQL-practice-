{
 "cells": [
  {
   "cell_type": "code",
   "execution_count": 2,
   "metadata": {},
   "outputs": [
    {
     "name": "stdout",
     "output_type": "stream",
     "text": [
      "after reverse : 89\n"
     ]
    }
   ],
   "source": [
    "reverse=0\n",
    "n=98\n",
    "while n!=0:\n",
    "    reverse = reverse*10 + n%10 # what does this do ? \n",
    "    n=(n//10) #what does // mean ? \n",
    "print(\"after reverse : %d\" %reverse)"
   ]
  },
  {
   "cell_type": "code",
   "execution_count": null,
   "metadata": {},
   "outputs": [],
   "source": []
  },
  {
   "cell_type": "code",
   "execution_count": null,
   "metadata": {},
   "outputs": [],
   "source": [
    "0=0*10+98%10 # what does % do ? Finds remainder actually gives you the last digit of the number "
   ]
  },
  {
   "cell_type": "code",
   "execution_count": null,
   "metadata": {},
   "outputs": [],
   "source": [
    "# first iteration \n",
    "\n",
    "0*10 + 98%10 = reverse = 0+8=8\n",
    "n=n//10=9\n",
    "\n",
    "#second iteration \n",
    "\n",
    "8*10 + 9%10 = reverse = 80+9= 89 \n",
    "n = 9//10 = 0 \n",
    "\n",
    "\n"
   ]
  },
  {
   "cell_type": "code",
   "execution_count": 1,
   "metadata": {},
   "outputs": [],
   "source": [
    "n=int()"
   ]
  },
  {
   "cell_type": "code",
   "execution_count": 2,
   "metadata": {},
   "outputs": [
    {
     "ename": "ValueError",
     "evalue": "invalid literal for int() with base 10: 'wwww'",
     "output_type": "error",
     "traceback": [
      "\u001b[1;31m---------------------------------------------------------------------------\u001b[0m",
      "\u001b[1;31mValueError\u001b[0m                                Traceback (most recent call last)",
      "\u001b[1;32m<ipython-input-2-c76fb20b38bd>\u001b[0m in \u001b[0;36m<module>\u001b[1;34m\u001b[0m\n\u001b[1;32m----> 1\u001b[1;33m \u001b[0mn\u001b[0m\u001b[1;33m=\u001b[0m\u001b[0mint\u001b[0m\u001b[1;33m(\u001b[0m\u001b[0minput\u001b[0m\u001b[1;33m(\u001b[0m\u001b[1;33m)\u001b[0m\u001b[1;33m)\u001b[0m\u001b[1;33m\u001b[0m\u001b[1;33m\u001b[0m\u001b[0m\n\u001b[0m",
      "\u001b[1;31mValueError\u001b[0m: invalid literal for int() with base 10: 'wwww'"
     ]
    }
   ],
   "source": [
    "n=int(input())"
   ]
  },
  {
   "cell_type": "code",
   "execution_count": 3,
   "metadata": {},
   "outputs": [],
   "source": [
    "n=int(input())"
   ]
  },
  {
   "cell_type": "code",
   "execution_count": 4,
   "metadata": {},
   "outputs": [
    {
     "data": {
      "text/plain": [
       "222"
      ]
     },
     "execution_count": 4,
     "metadata": {},
     "output_type": "execute_result"
    }
   ],
   "source": [
    "n"
   ]
  },
  {
   "cell_type": "code",
   "execution_count": 5,
   "metadata": {},
   "outputs": [],
   "source": [
    "n=int(input(\"Please give a number\"))"
   ]
  },
  {
   "cell_type": "code",
   "execution_count": 6,
   "metadata": {},
   "outputs": [
    {
     "data": {
      "text/plain": [
       "2222112112323123"
      ]
     },
     "execution_count": 6,
     "metadata": {},
     "output_type": "execute_result"
    }
   ],
   "source": [
    "n"
   ]
  },
  {
   "cell_type": "code",
   "execution_count": 10,
   "metadata": {},
   "outputs": [
    {
     "name": "stdout",
     "output_type": "stream",
     "text": [
      "Before reverse: 2222112112323123\n"
     ]
    }
   ],
   "source": [
    "print(\"Before reverse: %d\" %n) #what does %d do ? "
   ]
  },
  {
   "cell_type": "code",
   "execution_count": 11,
   "metadata": {},
   "outputs": [
    {
     "name": "stdout",
     "output_type": "stream",
     "text": [
      "number is: 345\n",
      "after reversal: 543\n"
     ]
    }
   ],
   "source": [
    "n=int(input(\"give number\"))\n",
    "print(\"number is: %d\" %n)\n",
    "reverse=0\n",
    "while n!=0:\n",
    "    reverse = reverse*10 + n%10 \n",
    "    n= n//10\n",
    "print(\"after reversal: %d\" %reverse)"
   ]
  },
  {
   "cell_type": "code",
   "execution_count": 12,
   "metadata": {},
   "outputs": [
    {
     "name": "stdout",
     "output_type": "stream",
     "text": [
      "Factorial of 5 is 120\n"
     ]
    }
   ],
   "source": [
    "# Python 3 program to find\n",
    "# factorial of given number\n",
    "def factorial(n):\n",
    "\t\n",
    "\t# single line to find factorial\n",
    "\treturn 1 if (n==1 or n==0) else n * factorial(n - 1);\n",
    "\n",
    "# Driver Code\n",
    "num = 5;\n",
    "print(\"Factorial of\",num,\"is\",\n",
    "factorial(num))\n",
    "\n",
    "\n"
   ]
  },
  {
   "cell_type": "code",
   "execution_count": 13,
   "metadata": {},
   "outputs": [
    {
     "name": "stdout",
     "output_type": "stream",
     "text": [
      "The factorial of 8 is 40320\n"
     ]
    }
   ],
   "source": [
    "def factorial(n):\n",
    "    return 1 if (n==1 or n==0) else n*factorial(n-1)\n",
    "\n",
    "num=8\n",
    "print(\"The factorial of\" , num , \"is\" , factorial(num))"
   ]
  },
  {
   "cell_type": "code",
   "execution_count": 20,
   "metadata": {},
   "outputs": [
    {
     "ename": "IndentationError",
     "evalue": "unindent does not match any outer indentation level (<tokenize>, line 12)",
     "output_type": "error",
     "traceback": [
      "\u001b[1;36m  File \u001b[1;32m\"<tokenize>\"\u001b[1;36m, line \u001b[1;32m12\u001b[0m\n\u001b[1;33m    n = n-1\u001b[0m\n\u001b[1;37m    ^\u001b[0m\n\u001b[1;31mIndentationError\u001b[0m\u001b[1;31m:\u001b[0m unindent does not match any outer indentation level\n"
     ]
    }
   ],
   "source": []
  },
  {
   "cell_type": "code",
   "execution_count": 21,
   "metadata": {},
   "outputs": [
    {
     "name": "stdout",
     "output_type": "stream",
     "text": [
      "Factorial of 5 is 120\n"
     ]
    }
   ],
   "source": [
    "# Python 3 program to find\n",
    "# factorial of given number\n",
    "def factorial(n):\n",
    "\tif n < 0:\n",
    "\t\treturn 0\n",
    "\telif n == 0 or n == 1:\n",
    "\t\treturn 1\n",
    "\telse:\n",
    "\t\tfact = 1\n",
    "\t\twhile(n > 1):\n",
    "\t\t\tfact *= n\n",
    "\t\t\tn -= 1\n",
    "\t\treturn fact\n",
    "\n",
    "# Driver Code\n",
    "num = 5;\n",
    "print(\"Factorial of\",num,\"is\",\n",
    "factorial(num))\n",
    "\n",
    "# This code is contributed by Dharmik Thakkar\n"
   ]
  },
  {
   "cell_type": "code",
   "execution_count": 22,
   "metadata": {},
   "outputs": [
    {
     "name": "stdout",
     "output_type": "stream",
     "text": [
      "Factorial of 5 is 120\n"
     ]
    }
   ],
   "source": [
    "# Python 3 program to find\n",
    "# factorial of given number\n",
    "def factorial(n):\n",
    "\tif n < 0:\n",
    "\t\treturn 0\n",
    "\telif n == 0 or n == 1:\n",
    "\t\treturn 1\n",
    "\telse:\n",
    "\t\tfact = 1\n",
    "\t\twhile(n > 1):\n",
    "\t\t\tfact=fact*n \n",
    "\t\t\tn=n-1\n",
    "\t\treturn fact\n",
    "\n",
    "# Driver Code\n",
    "num = 5;\n",
    "print(\"Factorial of\",num,\"is\",\n",
    "factorial(num))\n",
    "\n",
    "# This code is contributed by Dharmik Thakkar\n"
   ]
  },
  {
   "cell_type": "code",
   "execution_count": 23,
   "metadata": {},
   "outputs": [
    {
     "name": "stdout",
     "output_type": "stream",
     "text": [
      "True\n",
      "False\n"
     ]
    }
   ],
   "source": [
    "# Python program to determine whether\n",
    "# the number is Armstrong number or not\n",
    "\n",
    "# Function to calculate x raised to\n",
    "# the power y\n",
    "def power(x, y):\n",
    "\t\n",
    "\tif y == 0:\n",
    "\t\treturn 1\n",
    "\tif y % 2 == 0:\n",
    "\t\treturn power(x, y // 2) * power(x, y // 2)\n",
    "\t\t\n",
    "\treturn x * power(x, y // 2) * power(x, y // 2)\n",
    "\n",
    "# Function to calculate order of the number\n",
    "def order(x):\n",
    "\n",
    "\t# Variable to store of the number\n",
    "\tn = 0\n",
    "\twhile (x != 0):\n",
    "\t\tn = n + 1\n",
    "\t\tx = x // 10\n",
    "\t\t\n",
    "\treturn n\n",
    "\n",
    "# Function to check whether the given\n",
    "# number is Armstrong number or not\n",
    "def isArmstrong(x):\n",
    "\t\n",
    "\tn = order(x)\n",
    "\ttemp = x\n",
    "\tsum1 = 0\n",
    "\t\n",
    "\twhile (temp != 0):\n",
    "\t\tr = temp % 10\n",
    "\t\tsum1 = sum1 + power(r, n)\n",
    "\t\ttemp = temp // 10\n",
    "\n",
    "\t# If condition satisfies\n",
    "\treturn (sum1 == x)\n",
    "\n",
    "# Driver code\n",
    "x = 153\n",
    "print(isArmstrong(x))\n",
    "\n",
    "x = 1253\n",
    "print(isArmstrong(x))\n"
   ]
  },
  {
   "cell_type": "code",
   "execution_count": 30,
   "metadata": {},
   "outputs": [
    {
     "ename": "IndentationError",
     "evalue": "unindent does not match any outer indentation level (<tokenize>, line 17)",
     "output_type": "error",
     "traceback": [
      "\u001b[1;36m  File \u001b[1;32m\"<tokenize>\"\u001b[1;36m, line \u001b[1;32m17\u001b[0m\n\u001b[1;33m    else:\u001b[0m\n\u001b[1;37m    ^\u001b[0m\n\u001b[1;31mIndentationError\u001b[0m\u001b[1;31m:\u001b[0m unindent does not match any outer indentation level\n"
     ]
    }
   ],
   "source": [
    "# Python program to check if\n",
    "# given number is prime or not\n",
    "\n",
    "num = 11\n",
    "\n",
    "# If given number is greater than 1\n",
    "if num > 1:\n",
    "\n",
    "\t# Iterate from 2 to n / 2\n",
    "\tfor i in range(2, int(num/2)+1):\n",
    "\n",
    "\t\t# If num is divisible by any number between\n",
    "\t\t# 2 and n / 2, it is not prime\n",
    "\t\tif (num % i) == 0:\n",
    "\t\t\tprint(num, \"is not a prime number\")\n",
    "\t\t\tbreak\n",
    "    else:\n",
    "        print(num, \"is a prime number\")\n",
    "\n",
    "else:\n",
    "\tprint(num, \"is not a prime number\")\n"
   ]
  },
  {
   "cell_type": "code",
   "execution_count": null,
   "metadata": {},
   "outputs": [],
   "source": [
    "# Python program to check if\n",
    "# given number is prime or not\n",
    "\n",
    "num = 11\n",
    "\n",
    "# If given number is greater than 1\n",
    "if num > 1:\n",
    "\n",
    "\t# Iterate from 2 to n / 2\n",
    "\tfor i in range(2, int(num/2)+1):\n",
    "\n",
    "\t\t# If num is divisible by any number between\n",
    "\t\t# 2 and n / 2, it is not prime\n",
    "\t\tif (num % i) == 0:\n",
    "\t\t\tprint(num, \"is not a prime number\")\n",
    "\t\t\tbreak\n",
    "\telse:\n",
    "\t\tprint(num, \"is a prime number\")\n",
    "\n",
    "else:\n",
    "\tprint(num, \"is not a prime number\")\n"
   ]
  },
  {
   "cell_type": "code",
   "execution_count": null,
   "metadata": {},
   "outputs": [],
   "source": [
    "# Program to check if a number is prime or not\n",
    "\n",
    "num = 29\n",
    "\n",
    "# To take input from the user\n",
    "#num = int(input(\"Enter a number: \"))\n",
    "\n",
    "# define a flag variable\n",
    "flag = False\n",
    "\n",
    "# prime numbers are greater than 1\n",
    "if num > 1:\n",
    "    # check for factors\n",
    "    for i in range(2, num):\n",
    "        if (num % i) == 0:\n",
    "            # if factor is found, set flag to True\n",
    "            flag = True\n",
    "            # break out of loop\n",
    "            break\n",
    "\n",
    "# check if flag is True\n",
    "if flag:\n",
    "    print(num, \"is not a prime number\")\n",
    "else:\n",
    "    print(num, \"is a prime number\")"
   ]
  },
  {
   "cell_type": "code",
   "execution_count": 43,
   "metadata": {},
   "outputs": [
    {
     "name": "stdout",
     "output_type": "stream",
     "text": [
      "yes\n"
     ]
    }
   ],
   "source": [
    "#Prime number\n",
    "num = 77\n",
    "flag = False \n",
    "if num >1 :\n",
    "    for i in range(2,num):\n",
    "        if (num%i)==0:\n",
    "            flag = True \n",
    "        break \n",
    "if flag : \n",
    "    print(\"no\")\n",
    "else : \n",
    "    print(\"yes\")"
   ]
  },
  {
   "cell_type": "code",
   "execution_count": 3,
   "metadata": {},
   "outputs": [
    {
     "name": "stdout",
     "output_type": "stream",
     "text": [
      "78125\n",
      "35\n"
     ]
    }
   ],
   "source": [
    "a=5\n",
    "b=7\n",
    "print(a**b)\n",
    "print(a*b)"
   ]
  },
  {
   "cell_type": "code",
   "execution_count": 4,
   "metadata": {},
   "outputs": [
    {
     "data": {
      "text/plain": [
       "8"
      ]
     },
     "execution_count": 4,
     "metadata": {},
     "output_type": "execute_result"
    }
   ],
   "source": [
    "2**3"
   ]
  },
  {
   "cell_type": "code",
   "execution_count": 6,
   "metadata": {},
   "outputs": [
    {
     "name": "stdout",
     "output_type": "stream",
     "text": [
      "153 is an Armstrong number\n"
     ]
    }
   ],
   "source": [
    "# Python program to check if the number is an Armstrong number or not\n",
    "\n",
    "# take input from the user\n",
    "num = int(input(\"Enter a number: \"))\n",
    "\n",
    "# initialize sum\n",
    "sum = 0\n",
    "\n",
    "# find the sum of the cube of each digit\n",
    "temp = num\n",
    "while temp > 0:\n",
    "   digit = temp % 10\n",
    "   sum=sum+digit**3\n",
    "   temp=temp//10\n",
    "\n",
    "# display the result\n",
    "if num == sum:\n",
    "   print(num,\"is an Armstrong number\")\n",
    "else:\n",
    "   print(num,\"is not an Armstrong number\")\n"
   ]
  },
  {
   "cell_type": "code",
   "execution_count": null,
   "metadata": {},
   "outputs": [],
   "source": [
    "#first iteration \n",
    "\n",
    "num = 153 \n",
    "temp = num = 153 \n",
    "\n",
    "while 153 > 0 :\n",
    "    digit = 153 % 10 = 3\n",
    "    sum = 0 + 3**3 = 27\n",
    "    temp = 153//10 = 15\n",
    "\n",
    "    #second iteration \n",
    "    digit = 15 % 10 = 5\n",
    "    sum = 27 + 5**3 = 152\n",
    "    temp = 15//10 = 1\n",
    "\n",
    "    #third iteration \n",
    "    digit = 1%10 = 1\n",
    "    sum = 152+1**3=153\n",
    "    temp = 1//10 = 0\n",
    "\n",
    "    # while loop ends "
   ]
  },
  {
   "cell_type": "code",
   "execution_count": 11,
   "metadata": {},
   "outputs": [
    {
     "name": "stdout",
     "output_type": "stream",
     "text": [
      " yes \n"
     ]
    }
   ],
   "source": [
    "num = int(input(\"Enter \"))\n",
    "\n",
    "sum = 0\n",
    "temp = num \n",
    "\n",
    "while temp > 0 : \n",
    "    digit =  temp % 10 \n",
    "    sum = sum + digit**3 \n",
    "    temp = temp // 10 \n",
    "\n",
    "if num == sum : \n",
    "    print( \" yes \")\n",
    "else : \n",
    "    print(\"no\")\n"
   ]
  },
  {
   "cell_type": "code",
   "execution_count": null,
   "metadata": {},
   "outputs": [],
   "source": [
    "# Program to display the Fibonacci sequence up to n-th term\n",
    "\n",
    "nterms = int(input(\"How many terms? \"))\n",
    "\n",
    "# first two terms\n",
    "n1, n2 = 0, 1\n",
    "count = 0\n",
    "\n",
    "# check if the number of terms is valid\n",
    "if nterms <= 0:\n",
    "   print(\"Please enter a positive integer\")\n",
    "# if there is only one term, return n1\n",
    "elif nterms == 1:\n",
    "   print(\"Fibonacci sequence upto\",nterms,\":\")\n",
    "   print(n1)\n",
    "# generate fibonacci sequence\n",
    "else:\n",
    "   print(\"Fibonacci sequence:\")\n",
    "   while count < nterms:\n",
    "       print(n1)\n",
    "       nth = n1 + n2\n",
    "       # update values\n",
    "       n1 = n2\n",
    "       n2 = nth\n",
    "       count += 1"
   ]
  },
  {
   "cell_type": "code",
   "execution_count": 14,
   "metadata": {},
   "outputs": [
    {
     "name": "stdout",
     "output_type": "stream",
     "text": [
      "No\n"
     ]
    }
   ],
   "source": [
    "n=int(input(\"Enter the number: \"))\n",
    "c=0\n",
    "a=1\n",
    "b=1\n",
    "if n==0 or n==1:\n",
    "    print(\"Yes\")\n",
    "else:\n",
    "    while c<n:\n",
    "        c=a+b\n",
    "        b=a\n",
    "        a=c\n",
    "    if c==n:\n",
    "        print(\"Yes\")\n",
    "    else:\n",
    "        print(\"No\")"
   ]
  },
  {
   "cell_type": "code",
   "execution_count": 15,
   "metadata": {},
   "outputs": [
    {
     "name": "stdout",
     "output_type": "stream",
     "text": [
      " n1 is greatest\n",
      " n2 is greatest\n",
      "n3 is greatest\n"
     ]
    }
   ],
   "source": [
    "n1 = int(input(\"please give first number n1: \"))\n",
    "n2 = int(input(\"please give second number n2: \"))\n",
    "n3 = int(input(\"please give third number n3: \"))\n",
    "if n1>=n2 and n1>=n3: \n",
    "\tprint(\" n1 is greatest\");\n",
    "if n2>=n1 and n2>=n3:\n",
    "\tprint(\" n2 is greatest\");\n",
    "if n3>=n1 and n3>=n2:\n",
    "\tprint(\"n3 is greatest\");"
   ]
  },
  {
   "cell_type": "code",
   "execution_count": 16,
   "metadata": {},
   "outputs": [
    {
     "name": "stdout",
     "output_type": "stream",
     "text": [
      "After swapping\n",
      "value of a is :  234\n",
      "value of b is :  23\n"
     ]
    }
   ],
   "source": [
    "a = int(input(\"please give first number a: \"))\n",
    "b = int(input(\"please give second number b: \"))\n",
    "a=a-b\n",
    "b=a+b\n",
    "a=b-a\n",
    "print(\"After swapping\")\n",
    "print(\"value of a is : \", a);\n",
    "print(\"value of b is : \", b); "
   ]
  },
  {
   "cell_type": "code",
   "execution_count": null,
   "metadata": {},
   "outputs": [],
   "source": [
    "a=2\n",
    "b=5\n",
    "a=a-b=2-5=-3\n",
    "b=a+b=2+5=8\n",
    "a=b-a = 8-(-3)=11"
   ]
  },
  {
   "cell_type": "code",
   "execution_count": 4,
   "metadata": {},
   "outputs": [
    {
     "name": "stdout",
     "output_type": "stream",
     "text": [
      "num is binary\n"
     ]
    }
   ],
   "source": [
    "num = int(input(\"please give a number : \"))\n",
    "while(num>0):\n",
    "    j=num%10\n",
    "    if j!=0 and j!=1:\n",
    "        print(\"num is not binary\")\n",
    "        break\n",
    "    num=num//10\n",
    "    if num==0:\n",
    "        print(\"num is binary\") "
   ]
  },
  {
   "cell_type": "code",
   "execution_count": 5,
   "metadata": {},
   "outputs": [
    {
     "name": "stdout",
     "output_type": "stream",
     "text": [
      "9\n",
      "27\n"
     ]
    }
   ],
   "source": [
    "num =  int(input(\"give number\"))\n",
    "\n",
    "square = num**2 \n",
    "cube = num**3 \n",
    "\n",
    "print(square) ; print(cube)"
   ]
  },
  {
   "cell_type": "code",
   "execution_count": 2,
   "metadata": {},
   "outputs": [
    {
     "name": "stdout",
     "output_type": "stream",
     "text": [
      "vGOATrun\n"
     ]
    }
   ],
   "source": [
    "str = input(\"please enter a string : \")\n",
    "ch = input(\"please enter a character : \")\n",
    "print(str.replace(ch,\"GOAT\")) "
   ]
  },
  {
   "cell_type": "code",
   "execution_count": 4,
   "metadata": {},
   "outputs": [
    {
     "name": "stdout",
     "output_type": "stream",
     "text": [
      "['a', 'n', 'r', 'u', 'v']\n"
     ]
    }
   ],
   "source": [
    "str=\"varun\"\n",
    "print(sorted(str))\n",
    "\n"
   ]
  },
  {
   "cell_type": "code",
   "execution_count": 2,
   "metadata": {},
   "outputs": [
    {
     "name": "stdout",
     "output_type": "stream",
     "text": [
      "Given String is not a Palindrome\n"
     ]
    }
   ],
   "source": [
    "string = input(\"Please give a String : \")\n",
    "if(string == string[:: - 1]):\n",
    "   print(\"Given String is a Palindrome\")\n",
    "else:\n",
    "   print(\"Given String is not a Palindrome\") "
   ]
  },
  {
   "cell_type": "code",
   "execution_count": 3,
   "metadata": {},
   "outputs": [
    {
     "name": "stdout",
     "output_type": "stream",
     "text": [
      "Yes\n"
     ]
    }
   ],
   "source": [
    "string=input(\"Give a String\")\n",
    "if (string==string[::1]):\n",
    "    print(\"Yes\")\n",
    "else: \n",
    "    print(\"no\")"
   ]
  },
  {
   "cell_type": "code",
   "execution_count": 7,
   "metadata": {},
   "outputs": [
    {
     "name": "stdout",
     "output_type": "stream",
     "text": [
      "count= 3\n"
     ]
    }
   ],
   "source": [
    "string=input(\"give string\")\n",
    "char=input(\"give letter\")\n",
    "count=0\n",
    "for i in range(len(string)):\n",
    "    if string[i] == char :\n",
    "        count=count+1\n",
    "print(\"count=\",count)\n",
    "    "
   ]
  },
  {
   "cell_type": "code",
   "execution_count": 3,
   "metadata": {},
   "outputs": [
    {
     "name": "stdout",
     "output_type": "stream",
     "text": [
      "String after removing space with t =  varun\n"
     ]
    }
   ],
   "source": [
    "\n",
    "#taking input from the user\n",
    "string = input(\"Enter a String : \")\n",
    "result = ''  #empty string\n",
    "ch = input(\"Enter a Character : \")\n",
    "for i in string:  #iterating using for loop\n",
    "        if i == ' ':  #if any space found in the string\n",
    "            i = ch   #replacing space with character\n",
    "        result += i   #concatenating each character of the string without space\n",
    "print(\"String after removing space with t = \",result)\n"
   ]
  },
  {
   "cell_type": "code",
   "execution_count": 5,
   "metadata": {},
   "outputs": [
    {
     "name": "stdout",
     "output_type": "stream",
     "text": [
      "result is varun\n"
     ]
    }
   ],
   "source": [
    "string = input(\"Give string with empty spaces \")\n",
    "char=input(\"Give the character you want to put in the place of empty space \")\n",
    "result=\"\"\n",
    "for i in string: \n",
    "    if i == ' ':\n",
    "        i=char\n",
    "    result=result+i\n",
    "print(\"result is\",result)"
   ]
  },
  {
   "cell_type": "code",
   "execution_count": 6,
   "metadata": {},
   "outputs": [
    {
     "name": "stdout",
     "output_type": "stream",
     "text": [
      "String after removing the vowels : vrn\n"
     ]
    }
   ],
   "source": [
    "\n",
    "#taking the input string from the user\n",
    "string = input(\"Enter a String : \") \n",
    "result=''\n",
    "for i in string:  \n",
    "#iterating through each character of the string\n",
    "    if i in ('a', 'e', 'i', 'o', 'u', 'A', 'E', 'I', 'O', 'U'):  \n",
    "     #seaching for vowels\n",
    "        i = ''  \n",
    "#if vowel found replace it with empty string\n",
    "    result += i \n",
    "    #concatenate rest of the string\n",
    "print(\"String after removing the vowels :\",result)\n"
   ]
  },
  {
   "cell_type": "code",
   "execution_count": 11,
   "metadata": {},
   "outputs": [
    {
     "name": "stdout",
     "output_type": "stream",
     "text": [
      "vrn\n"
     ]
    }
   ],
   "source": [
    "string=input(\"give string\")\n",
    "temp=\"\"\n",
    "for i in string:\n",
    "    if i in ('a','e','i','o','u'):\n",
    "        i=''\n",
    "    temp=temp+i\n",
    "print(temp)"
   ]
  },
  {
   "cell_type": "code",
   "execution_count": 28,
   "metadata": {},
   "outputs": [
    {
     "name": "stdout",
     "output_type": "stream",
     "text": [
      "The original string is : vaarun\n",
      "The maximum of all characters in GeeksforGeeks is : a\n",
      "a\n"
     ]
    }
   ],
   "source": [
    "# Python 3 code to demonstrate\n",
    "# Maximum frequency character in String\n",
    "# naive method\n",
    "\n",
    "# initializing string\n",
    "test_str = input(\"give\")\n",
    "\n",
    "# printing original string\n",
    "print (\"The original string is : \" + test_str)\n",
    "\n",
    "# using naive method to get\n",
    "# Maximum frequency character in String\n",
    "all_freq = {}\n",
    "for i in test_str:\n",
    "\tif i in all_freq:\n",
    "\t\tall_freq[i] += 1\n",
    "\telse:\n",
    "\t\tall_freq[i] = 1\n",
    "res = max(all_freq, key = all_freq.get)\n",
    "\n",
    "# printing result\n",
    "print (\"The maximum of all characters in GeeksforGeeks is : \" + str(res))\n",
    "print(res)"
   ]
  },
  {
   "cell_type": "code",
   "execution_count": 33,
   "metadata": {},
   "outputs": [
    {
     "name": "stdout",
     "output_type": "stream",
     "text": [
      "{1: 'a', 2: 'a', 3: 'a'}\n",
      "<built-in method get of dict object at 0x0000022AA0C12E40>\n"
     ]
    }
   ],
   "source": [
    "dich={}\n",
    "for i in range(1,4):\n",
    "    dich[i]= 'a'\n",
    "\n",
    "print(dich)\n",
    "keyi=dich.get\n",
    "print(keyi)"
   ]
  },
  {
   "cell_type": "code",
   "execution_count": 25,
   "metadata": {},
   "outputs": [
    {
     "data": {
      "text/plain": [
       "{'a': 1}"
      ]
     },
     "execution_count": 25,
     "metadata": {},
     "output_type": "execute_result"
    }
   ],
   "source": [
    "dicti={}\n",
    "dicti['a']=\n",
    "dicti"
   ]
  },
  {
   "cell_type": "code",
   "execution_count": 38,
   "metadata": {},
   "outputs": [
    {
     "data": {
      "text/plain": [
       "99"
      ]
     },
     "execution_count": 38,
     "metadata": {},
     "output_type": "execute_result"
    }
   ],
   "source": [
    "hi=max(1,2,3,4,5,6,99)\n",
    "hi"
   ]
  },
  {
   "cell_type": "code",
   "execution_count": 41,
   "metadata": {},
   "outputs": [
    {
     "name": "stdout",
     "output_type": "stream",
     "text": [
      "The original string is : vaaarun\n",
      "{'v': 1, 'a': 3, 'r': 1, 'u': 1, 'n': 1}\n",
      "The maximum of all characters in GeeksforGeeks is : v\n",
      "v\n"
     ]
    }
   ],
   "source": [
    "# Python 3 code to demonstrate\n",
    "# Maximum frequency character in String\n",
    "# naive method\n",
    "\n",
    "# initializing string\n",
    "test_str = \"vaaarun\"\n",
    "\n",
    "# printing original string\n",
    "print (\"The original string is : \" + test_str)\n",
    "\n",
    "# using naive method to get\n",
    "# Maximum frequency character in String\n",
    "all_freq = {}\n",
    "for i in test_str:\n",
    "\tif i in all_freq:\n",
    "\t\tall_freq[i] += 1\n",
    "\telse:\n",
    "\t\tall_freq[i] = 1\n",
    "res = max(all_freq)\n",
    "print(all_freq)\n",
    "\n",
    "\n",
    "# printing result\n",
    "print (\"The maximum of all characters in GeeksforGeeks is : \" + str(res))\n",
    "print(res)"
   ]
  },
  {
   "cell_type": "code",
   "execution_count": 43,
   "metadata": {},
   "outputs": [
    {
     "name": "stdout",
     "output_type": "stream",
     "text": [
      "e\n"
     ]
    }
   ],
   "source": [
    "string=\"geeksofgeeks\"\n",
    "dick={}\n",
    "for i in string:\n",
    "    if i in dick:\n",
    "        dick[i]=dick[i]+1\n",
    "    else:\n",
    "        dick[i]=1\n",
    "fre=max(dick , key = dick.get) # .get gets the key value , otherwise it will print key \n",
    "print(str(fre))"
   ]
  },
  {
   "cell_type": "code",
   "execution_count": null,
   "metadata": {},
   "outputs": [],
   "source": [
    "from collections import OrderedDict\n",
    "\n",
    "# Function to remove all duplicates from string\n",
    "# and order does not matter\n",
    "def removeDupWithoutOrder(str):\n",
    "\n",
    "\t# set() --> A Set is an unordered collection\n",
    "\t#\t\t data type that is iterable, mutable,\n",
    "\t#\t\t and has no duplicate elements.\n",
    "\t# \"\".join() --> It joins two adjacent elements in\n",
    "\t#\t\t\t iterable with any symbol defined in\n",
    "\t#\t\t\t \"\" ( double quotes ) and returns a\n",
    "\t#\t\t\t single string\n",
    "\treturn \"\".join(set(str))\n",
    "\n",
    "# Function to remove all duplicates from string\n",
    "# and keep the order of characters same\n",
    "def removeDupWithOrder(str):\n",
    "\treturn \"\".join(OrderedDict.fromkeys(str))\n",
    "\n",
    "# Driver program\n",
    "if __name__ == \"__main__\":\n",
    "\tstr = \"geeksforgeeks\"\n",
    "\tprint (\"Without Order = \",removeDupWithoutOrder(str))\n",
    "\tprint (\"With Order = \",removeDupWithOrder(str))\n"
   ]
  },
  {
   "cell_type": "code",
   "execution_count": 47,
   "metadata": {},
   "outputs": [
    {
     "name": "stdout",
     "output_type": "stream",
     "text": [
      "geksfor\n"
     ]
    }
   ],
   "source": [
    "string = \"geeksforgeeks\"\n",
    "dick=''\n",
    "for i in string:\n",
    "    if i not in dick : \n",
    "        dick=dick+i \n",
    "print(dick)   \n",
    "        "
   ]
  },
  {
   "cell_type": "code",
   "execution_count": 49,
   "metadata": {},
   "outputs": [
    {
     "data": {
      "text/plain": [
       "'skeegfoskeeg'"
      ]
     },
     "execution_count": 49,
     "metadata": {},
     "output_type": "execute_result"
    }
   ],
   "source": [
    "string=\"geeksofgeeks\"\n",
    "newstring = string[::-1]\n",
    "newstring"
   ]
  },
  {
   "cell_type": "code",
   "execution_count": 5,
   "metadata": {},
   "outputs": [
    {
     "name": "stdout",
     "output_type": "stream",
     "text": [
      "varun wadhwa\n"
     ]
    }
   ],
   "source": [
    "string=\"varun\"\n",
    "a=' wadhwa'\n",
    "\n",
    "\n",
    "string = string + a\n",
    "print(string)\n"
   ]
  },
  {
   "cell_type": "code",
   "execution_count": 31,
   "metadata": {},
   "outputs": [
    {
     "name": "stdout",
     "output_type": "stream",
     "text": [
      "ABCD0000\n",
      "4\n"
     ]
    }
   ],
   "source": [
    "string = \"10203040\"\n",
    "count=0\n",
    "for i in string :\n",
    "    if i == \"0\":\n",
    "        count=count+1\n",
    "        string=string.replace(i,\"\")\n",
    "    for x in range(count):\n",
    "        string=string+\"0\"\n",
    "\n",
    "    if i == \"1\":\n",
    "        string=string.replace(i,\"A\")\n",
    "    elif i == \"2\":\n",
    "        string=string.replace(i,\"B\")\n",
    "    elif i == \"3\":\n",
    "        string=string.replace(i,\"C\")\n",
    "    elif i==\"4\":\n",
    "        string=string.replace(i,\"D\")\n",
    "\n",
    "print(string)\n",
    "print(count)\n",
    "\n",
    "\n",
    "#first remove all the zeros , take the count \n",
    "# append them to the right \n",
    "# then replace 1234s with respective abcs"
   ]
  },
  {
   "cell_type": "code",
   "execution_count": 14,
   "metadata": {},
   "outputs": [
    {
     "name": "stdout",
     "output_type": "stream",
     "text": [
      "Your username is: var un \n"
     ]
    }
   ],
   "source": [
    "username = \"v_a_r _un_ \"\n",
    "final_username = username.replace(\"_\", \"\")\n",
    "\n",
    "print(\"Your username is: \" + final_username)"
   ]
  },
  {
   "cell_type": "code",
   "execution_count": 20,
   "metadata": {},
   "outputs": [
    {
     "name": "stdout",
     "output_type": "stream",
     "text": [
      "g e e k s f o r g e e k s \n",
      "\n",
      "G\n",
      "E\n",
      "E\n",
      "K\n",
      "S\n"
     ]
    }
   ],
   "source": [
    "# Python program to iterate over characters of a string\n",
    "\n",
    "# Code #1\n",
    "string_name = \"geeksforgeeks\"\n",
    "\n",
    "# Iterate over the string\n",
    "for element in string_name:\n",
    "\tprint(element, end=' ')\n",
    "print(\"\\n\")\n",
    "\n",
    "\n",
    "# Code #2\n",
    "string_name = \"GEEKS\"\n",
    "\n",
    "# Iterate over index\n",
    "for element in range(0, len(string_name)):\n",
    "\tprint(string_name[element])\n"
   ]
  },
  {
   "cell_type": "code",
   "execution_count": 32,
   "metadata": {},
   "outputs": [
    {
     "name": "stdout",
     "output_type": "stream",
     "text": [
      "Left Rotation :  eksforGeeksGe\n",
      "Right Rotation :  ksGeeksforGee\n"
     ]
    }
   ],
   "source": [
    "# Function to rotate string left and right by d length\n",
    "\n",
    "def rotate(input,d):\n",
    "\n",
    "\t# slice string in two parts for left and right\n",
    "\tLfirst = input[0 : d]\n",
    "\tLsecond = input[d :]\n",
    "\tRfirst = input[0 : len(input)-d]\n",
    "\tRsecond = input[len(input)-d : ]\n",
    "\n",
    "\t# now concatenate two parts together\n",
    "\tprint (\"Left Rotation : \", (Lsecond + Lfirst) )\n",
    "\tprint (\"Right Rotation : \", (Rsecond + Rfirst))\n",
    "\n",
    "# Driver program\n",
    "if __name__ == \"__main__\":\n",
    "\tinput = 'GeeksforGeeks'\n",
    "\td=2\n",
    "\trotate(input,d)\n"
   ]
  },
  {
   "cell_type": "code",
   "execution_count": 34,
   "metadata": {},
   "outputs": [
    {
     "name": "stdout",
     "output_type": "stream",
     "text": [
      "eksforGeeksGe\n",
      "ksGeeksforGee\n"
     ]
    }
   ],
   "source": [
    "# Python3 program for Left\n",
    "# Rotation and Right\n",
    "# Rotation of a String\n",
    "\n",
    "# In-place rotates s towards left by d\n",
    "def leftrotate(s, d):\n",
    "\ttmp = s[d : ] + s[0 : d]\n",
    "\treturn tmp\n",
    "\n",
    "# In-place rotates s\n",
    "# towards right by d\n",
    "def rightrotate(s, d):\n",
    "\n",
    "    return leftrotate(s, len(s) - d)\n",
    "\n",
    "# Driver code\n",
    "if __name__==\"__main__\":\n",
    "\t\n",
    "\tstr1 = \"GeeksforGeeks\"\n",
    "\tprint(leftrotate(str1, 2))\n",
    "\n",
    "\tstr2 = \"GeeksforGeeks\"\n",
    "\tprint(rightrotate(str2, 2))\n",
    "\n",
    "\n"
   ]
  },
  {
   "cell_type": "code",
   "execution_count": null,
   "metadata": {},
   "outputs": [],
   "source": [
    "# Function to return all anagrams together\n",
    "def allAnagram(input):\n",
    "\t\n",
    "\t# empty dictionary which holds subsets\n",
    "\t# of all anagrams together\n",
    "\tdict = {}\n",
    "\n",
    "\t# traverse list of strings\n",
    "\tfor strVal in input:\n",
    "\t\t\n",
    "\t\t# sorted(iterable) method accepts any\n",
    "\t\t# iterable and rerturns list of items\n",
    "\t\t# in ascending order\n",
    "\t\tkey = ''.join(sorted(strVal))\n",
    "\t\t\n",
    "\t\t# now check if key exist in dictionary\n",
    "\t\t# or not. If yes then simply append the\n",
    "\t\t# strVal into the list of it's corresponding\n",
    "\t\t# key. If not then map empty list onto\n",
    "\t\t# key and then start appending values\n",
    "\t\tif key in dict.keys():\n",
    "\t\t\tdict[key].append(strVal)\n",
    "\t\telse:\n",
    "\t\t\tdict[key] = []\n",
    "\t\t\tdict[key].append(strVal)\n",
    "\n",
    "\t# traverse dictionary and concatenate values\n",
    "\t# of keys together\n",
    "\toutput = \"\"\n",
    "\tfor key,value in dict.items():\n",
    "\t\toutput = output + ' '.join(value) + ' '\n",
    "\n",
    "\treturn output\n",
    "\n",
    "# Driver function\n",
    "if __name__ == \"__main__\":\n",
    "\tinput=['cat', 'dog', 'tac', 'god', 'act']\n",
    "\tprint (allAnagram(input))\n"
   ]
  },
  {
   "cell_type": "code",
   "execution_count": 37,
   "metadata": {},
   "outputs": [
    {
     "name": "stdout",
     "output_type": "stream",
     "text": [
      "1020\n"
     ]
    }
   ],
   "source": [
    "arr= [ 1020,380,40,50,60,70,]\n",
    "n= len(arr)\n",
    "macks=arr[0]\n",
    "for i in range(1,n):\n",
    "    if arr[i]>macks:\n",
    "        macks=arr[i]\n",
    "print(macks)"
   ]
  },
  {
   "cell_type": "code",
   "execution_count": 40,
   "metadata": {},
   "outputs": [
    {
     "name": "stdout",
     "output_type": "stream",
     "text": [
      "3\n"
     ]
    }
   ],
   "source": [
    "arr=[44,56,78,24]\n",
    "n=len(arr)\n",
    "macks = max(arr)\n",
    "for i in range (0,n):\n",
    "    if i < macks and i > i-1:\n",
    "        second=i\n",
    "print(second)"
   ]
  },
  {
   "cell_type": "code",
   "execution_count": null,
   "metadata": {},
   "outputs": [],
   "source": [
    "# Python program to remove multiple\n",
    "# elements from a list\n",
    "\n",
    "# creating a list\n",
    "list1 = [11, 5, 17, 18, 23, 50]\n",
    "\n",
    "# Iterate each element in list\n",
    "# and add them in variable total\n",
    "for ele in list1:\n",
    "\tif ele % 2 == 0:\n",
    "\t\tlist1.remove(ele)\n",
    "\n",
    "# printing modified list\n",
    "print(\"New list after removing all even numbers: \", list1)\n"
   ]
  },
  {
   "cell_type": "code",
   "execution_count": null,
   "metadata": {},
   "outputs": [],
   "source": []
  },
  {
   "cell_type": "markdown",
   "metadata": {},
   "source": [
    "what is needed most ?\n",
    "What is asked ?\n",
    "\n",
    "the basic ones need to be mastered thoroughly , then go ahead at advanced ones \n"
   ]
  },
  {
   "cell_type": "code",
   "execution_count": 1,
   "metadata": {},
   "outputs": [
    {
     "name": "stdout",
     "output_type": "stream",
     "text": [
      "-31\n"
     ]
    }
   ],
   "source": [
    "a=2\n",
    "b=3\n",
    "c=5\n",
    "sum = b*b - 4*a*c \n",
    "print(sum)"
   ]
  },
  {
   "cell_type": "code",
   "execution_count": 2,
   "metadata": {},
   "outputs": [
    {
     "name": "stdout",
     "output_type": "stream",
     "text": [
      "x=10 is equal to y=10\n"
     ]
    }
   ],
   "source": [
    "# Determine if two integers are equal without using comparison operators\n",
    "# and arithmetic operators\n",
    "def checkForEquality(x, y):\n",
    "    return (x ^ y) == 0\n",
    " \n",
    " \n",
    "if __name__ == '__main__':\n",
    " \n",
    "    x = 10\n",
    "    y = 10\n",
    " \n",
    "    if checkForEquality(x, y):\n",
    "        print(f'x={x} is equal to y={y}')\n",
    "    else:\n",
    "        print(f'x={x} is not equal to y={y}')\n",
    " \n"
   ]
  },
  {
   "cell_type": "code",
   "execution_count": 3,
   "metadata": {},
   "outputs": [
    {
     "data": {
      "text/plain": [
       "0"
      ]
     },
     "execution_count": 3,
     "metadata": {},
     "output_type": "execute_result"
    }
   ],
   "source": [
    "5 ^ 5"
   ]
  },
  {
   "cell_type": "code",
   "execution_count": 4,
   "metadata": {},
   "outputs": [
    {
     "data": {
      "text/plain": [
       "2"
      ]
     },
     "execution_count": 4,
     "metadata": {},
     "output_type": "execute_result"
    }
   ],
   "source": [
    "5 ^ 7"
   ]
  },
  {
   "cell_type": "code",
   "execution_count": 6,
   "metadata": {},
   "outputs": [
    {
     "name": "stdout",
     "output_type": "stream",
     "text": [
      "No\n"
     ]
    }
   ],
   "source": [
    "num1 = 3\n",
    "num2 = 3\n",
    "\n",
    "if num1 ^ num2 == 0 : \n",
    "    print(\"Equal\")\n",
    "else : \n",
    "    print(\"No\")"
   ]
  },
  {
   "cell_type": "code",
   "execution_count": 9,
   "metadata": {},
   "outputs": [
    {
     "name": "stdout",
     "output_type": "stream",
     "text": [
      "The L.C.M. is 12\n"
     ]
    }
   ],
   "source": [
    "# Python Program to find the L.C.M. of two input number\n",
    "\n",
    "def compute_lcm(x, y):\n",
    "\n",
    "   # choose the greater number\n",
    "   if x > y:\n",
    "       greater = x\n",
    "   else:\n",
    "       greater = y\n",
    "\n",
    "   while(True):\n",
    "       if((greater % x == 0) and (greater % y == 0)):\n",
    "           lcm = greater\n",
    "           break\n",
    "       greater += 1\n",
    "\n",
    "   return lcm\n",
    "\n",
    "num1 = 6\n",
    "num2 = 4\n",
    "\n",
    "print(\"The L.C.M. is\", compute_lcm(num1, num2))"
   ]
  },
  {
   "cell_type": "code",
   "execution_count": 12,
   "metadata": {},
   "outputs": [
    {
     "data": {
      "text/plain": [
       "0"
      ]
     },
     "execution_count": 12,
     "metadata": {},
     "output_type": "execute_result"
    }
   ],
   "source": [
    "12%4"
   ]
  },
  {
   "cell_type": "code",
   "execution_count": 13,
   "metadata": {},
   "outputs": [
    {
     "name": "stdout",
     "output_type": "stream",
     "text": [
      "8\n"
     ]
    }
   ],
   "source": [
    "a = 4\n",
    "b = 8\n",
    "print(max(a,b))"
   ]
  },
  {
   "cell_type": "code",
   "execution_count": 18,
   "metadata": {},
   "outputs": [
    {
     "name": "stdout",
     "output_type": "stream",
     "text": [
      "42\n"
     ]
    }
   ],
   "source": [
    "# find lcm \n",
    "a = 6\n",
    "b = 7\n",
    "\n",
    "greater =  max ( a, b)\n",
    "\n",
    "while(True):\n",
    "   if (greater%a==0) and (greater%b==0):\n",
    "        lcm = greater \n",
    "        break\n",
    "   greater+=1\n",
    "print(lcm)"
   ]
  },
  {
   "cell_type": "code",
   "execution_count": 30,
   "metadata": {},
   "outputs": [
    {
     "ename": "ValueError",
     "evalue": "invalid literal for int() with base 10: ''",
     "output_type": "error",
     "traceback": [
      "\u001b[1;31m---------------------------------------------------------------------------\u001b[0m",
      "\u001b[1;31mValueError\u001b[0m                                Traceback (most recent call last)",
      "\u001b[1;32m<ipython-input-30-d6d1f348e78d>\u001b[0m in \u001b[0;36m<module>\u001b[1;34m\u001b[0m\n\u001b[0;32m     12\u001b[0m \u001b[1;33m\u001b[0m\u001b[0m\n\u001b[0;32m     13\u001b[0m \u001b[1;31m# taking input from users\u001b[0m\u001b[1;33m\u001b[0m\u001b[1;33m\u001b[0m\u001b[1;33m\u001b[0m\u001b[0m\n\u001b[1;32m---> 14\u001b[1;33m \u001b[0mnum1\u001b[0m \u001b[1;33m=\u001b[0m \u001b[0mint\u001b[0m\u001b[1;33m(\u001b[0m\u001b[0minput\u001b[0m\u001b[1;33m(\u001b[0m\u001b[1;34m\"Enter first number: \"\u001b[0m\u001b[1;33m)\u001b[0m\u001b[1;33m)\u001b[0m\u001b[1;33m\u001b[0m\u001b[1;33m\u001b[0m\u001b[0m\n\u001b[0m\u001b[0;32m     15\u001b[0m \u001b[0mnum2\u001b[0m \u001b[1;33m=\u001b[0m \u001b[0mint\u001b[0m\u001b[1;33m(\u001b[0m\u001b[0minput\u001b[0m\u001b[1;33m(\u001b[0m\u001b[1;34m\"Enter second number: \"\u001b[0m\u001b[1;33m)\u001b[0m\u001b[1;33m)\u001b[0m\u001b[1;33m\u001b[0m\u001b[1;33m\u001b[0m\u001b[0m\n\u001b[0;32m     16\u001b[0m \u001b[1;31m# printing the result for the users\u001b[0m\u001b[1;33m\u001b[0m\u001b[1;33m\u001b[0m\u001b[1;33m\u001b[0m\u001b[0m\n",
      "\u001b[1;31mValueError\u001b[0m: invalid literal for int() with base 10: ''"
     ]
    }
   ],
   "source": [
    "# defining a function to calculate HCF  \n",
    "def calculate_hcf(x, y):  \n",
    "    # selecting the smaller number  \n",
    "    if x > y:  \n",
    "        smaller = y  \n",
    "    else:  \n",
    "        smaller = x  \n",
    "    for i in range(1,smaller + 1):  \n",
    "        if((x % i == 0) and (y % i == 0)):  \n",
    "            hcf = i  \n",
    "    return hcf  \n",
    "  \n",
    "# taking input from users  \n",
    "num1 = int(input(\"Enter first number: \"))  \n",
    "num2 = int(input(\"Enter second number: \"))  \n",
    "# printing the result for the users  \n",
    "print(\"The H.C.F. of\", num1,\"and\", num2,\"is\", calculate_hcf(num1, num2))  "
   ]
  },
  {
   "cell_type": "code",
   "execution_count": 28,
   "metadata": {},
   "outputs": [
    {
     "name": "stdout",
     "output_type": "stream",
     "text": [
      "1\n"
     ]
    }
   ],
   "source": [
    "a = 3\n",
    "b = 7\n",
    "\n",
    "if max(a,b)==a:\n",
    "    smol=b \n",
    "else:\n",
    "    smol = a \n",
    "\n",
    "while(True):\n",
    "    if (a%smol==0) and (b%smol==0):\n",
    "        hcf=smol \n",
    "        break\n",
    "    smol=smol-1\n",
    "print(hcf)"
   ]
  },
  {
   "cell_type": "code",
   "execution_count": 23,
   "metadata": {},
   "outputs": [
    {
     "name": "stdout",
     "output_type": "stream",
     "text": [
      "4\n"
     ]
    }
   ],
   "source": [
    "a,b=4,6\n",
    "if max(a,b)==a:\n",
    "    smol=b \n",
    "else:\n",
    "    smol = a \n",
    "print(smol)"
   ]
  },
  {
   "cell_type": "code",
   "execution_count": 31,
   "metadata": {},
   "outputs": [
    {
     "name": "stdout",
     "output_type": "stream",
     "text": [
      "Elements of original array: \n",
      "1\n",
      "2\n",
      "3\n",
      "4\n",
      "5\n",
      "\n",
      "Elements of new array: \n",
      "1\n",
      "2\n",
      "3\n",
      "4\n",
      "5\n"
     ]
    }
   ],
   "source": [
    "#Initialize array     \n",
    "arr1 = [1, 2, 3, 4, 5];     \n",
    "     \n",
    "#Create another array arr2 with size of arr1    \n",
    "arr2 = [None] * len(arr1);    \n",
    "     \n",
    "#Copying all elements of one array into another    \n",
    "for i in range(0, len(arr1)):    \n",
    "    arr2[i] = arr1[i];     \n",
    "     \n",
    "#Displaying elements of array arr1     \n",
    "print(\"Elements of original array: \");    \n",
    "for i in range(0, len(arr1)):    \n",
    "   print(arr1[i]),    \n",
    "     \n",
    "print();    \n",
    "     \n",
    "#Displaying elements of array arr2     \n",
    "print(\"Elements of new array: \");    \n",
    "for i in range(0, len(arr2)):    \n",
    "   print(arr2[i]),  "
   ]
  },
  {
   "cell_type": "code",
   "execution_count": 32,
   "metadata": {},
   "outputs": [
    {
     "data": {
      "text/plain": [
       "{'v': 1, 'a': 2, 'r': 3, 'u': 4, 'n': 5}"
      ]
     },
     "execution_count": 32,
     "metadata": {},
     "output_type": "execute_result"
    }
   ],
   "source": [
    "a=[\"v\",\"a\",\"r\",\"u\",\"n\"]\n",
    "b=[1,2,3,4,5]\n",
    "\n",
    "dicki = dict(zip(a,b))\n",
    "dicki"
   ]
  },
  {
   "cell_type": "code",
   "execution_count": null,
   "metadata": {},
   "outputs": [],
   "source": [
    "# creating a new dictionary\n",
    "my_dict ={\"java\":100, \"python\":112, \"c\":11}\n",
    "\n",
    "# list out keys and values separately\n",
    "key_list = list(my_dict.keys())\n",
    "val_list = list(my_dict.values())\n",
    "\n",
    "# print key with val 100\n",
    "position = val_list.index(100)\n",
    "print(key_list[position])\n",
    "\n",
    "# print key with val 112\n",
    "position = val_list.index(112)\n",
    "print(key_list[position])\n",
    "\n",
    "# one-liner\n",
    "print(list(my_dict.keys())[list(my_dict.values()).index(112)])\n"
   ]
  },
  {
   "cell_type": "code",
   "execution_count": 50,
   "metadata": {},
   "outputs": [
    {
     "ename": "ValueError",
     "evalue": "'1' is not in list",
     "output_type": "error",
     "traceback": [
      "\u001b[1;31m---------------------------------------------------------------------------\u001b[0m",
      "\u001b[1;31mValueError\u001b[0m                                Traceback (most recent call last)",
      "\u001b[1;32m<ipython-input-50-d927c2430c28>\u001b[0m in \u001b[0;36m<module>\u001b[1;34m\u001b[0m\n\u001b[0;32m      8\u001b[0m \u001b[1;33m\u001b[0m\u001b[0m\n\u001b[0;32m      9\u001b[0m \u001b[1;32mfor\u001b[0m \u001b[0mi\u001b[0m \u001b[1;32min\u001b[0m \u001b[0mstring\u001b[0m\u001b[1;33m:\u001b[0m\u001b[1;33m\u001b[0m\u001b[1;33m\u001b[0m\u001b[0m\n\u001b[1;32m---> 10\u001b[1;33m     \u001b[0mpos\u001b[0m \u001b[1;33m=\u001b[0m \u001b[0mkeylist\u001b[0m\u001b[1;33m.\u001b[0m\u001b[0mindex\u001b[0m\u001b[1;33m(\u001b[0m\u001b[0mi\u001b[0m\u001b[1;33m)\u001b[0m\u001b[1;33m\u001b[0m\u001b[1;33m\u001b[0m\u001b[0m\n\u001b[0m\u001b[0;32m     11\u001b[0m \u001b[1;33m\u001b[0m\u001b[0m\n\u001b[0;32m     12\u001b[0m     \u001b[1;32mif\u001b[0m \u001b[0mi\u001b[0m \u001b[1;33m==\u001b[0m \u001b[0mkeylist\u001b[0m\u001b[1;33m[\u001b[0m\u001b[0mpos\u001b[0m\u001b[1;33m]\u001b[0m\u001b[1;33m:\u001b[0m\u001b[1;33m\u001b[0m\u001b[1;33m\u001b[0m\u001b[0m\n",
      "\u001b[1;31mValueError\u001b[0m: '1' is not in list"
     ]
    }
   ],
   "source": [
    "dicki = dict(zip(range(1,10),\"abcdefghi\"))\n",
    "\n",
    "keylist=list(dicki.keys())\n",
    "valuelist=list(dicki.values())\n",
    "\n",
    "dicki\n",
    "string=\"12345\"\n",
    "\n",
    "for i in string:\n",
    "    pos = keylist.index(i)\n",
    "\n",
    "    if i == keylist[pos]:\n",
    "        print(valuelist[pos])\n",
    "\n",
    "\n",
    "#if there is 1234 then i have to return abc "
   ]
  },
  {
   "cell_type": "code",
   "execution_count": 52,
   "metadata": {},
   "outputs": [
    {
     "name": "stdout",
     "output_type": "stream",
     "text": [
      "3\n"
     ]
    }
   ],
   "source": [
    "# sum of all ele in array\n",
    "arr = [1,2]\n",
    "sum=0\n",
    "for i in arr:\n",
    "    sum = sum + i\n",
    "print(sum)"
   ]
  },
  {
   "cell_type": "code",
   "execution_count": 54,
   "metadata": {},
   "outputs": [
    {
     "name": "stdout",
     "output_type": "stream",
     "text": [
      "[11, 13, 15]\n",
      "[17, 19, 21]\n",
      "[23, 25, 27]\n"
     ]
    }
   ],
   "source": [
    "X = [[1,2,3],  \n",
    "       [4,5,6],  \n",
    "       [7,8,9]]  \n",
    "  \n",
    "Y = [[10,11,12],  \n",
    "       [13,14,15],  \n",
    "       [16,17,18]]  \n",
    "  \n",
    "result = [[0,0,0],  \n",
    "                [0,0,0],  \n",
    "                [0,0,0]]  \n",
    "# iterate through rows  \n",
    "for i in range(len(X)):  \n",
    "   # iterate through columns  \n",
    "   for j in range(len(X[0])):  \n",
    "       result[i][j] = X[i][j] + Y[i][j]  \n",
    "for r in result:  \n",
    "   print(r)  "
   ]
  },
  {
   "cell_type": "code",
   "execution_count": 56,
   "metadata": {},
   "outputs": [
    {
     "name": "stdout",
     "output_type": "stream",
     "text": [
      "3\n"
     ]
    }
   ],
   "source": [
    "X = [[1,2,3],  \n",
    "       [4,5,6],  \n",
    "       [7,8,9]]  \n",
    "\n",
    "print(len(X[0]))"
   ]
  },
  {
   "cell_type": "code",
   "execution_count": 63,
   "metadata": {},
   "outputs": [
    {
     "ename": "IndexError",
     "evalue": "list assignment index out of range",
     "output_type": "error",
     "traceback": [
      "\u001b[1;31m---------------------------------------------------------------------------\u001b[0m",
      "\u001b[1;31mIndexError\u001b[0m                                Traceback (most recent call last)",
      "\u001b[1;32m<ipython-input-63-33caaca28bcc>\u001b[0m in \u001b[0;36m<module>\u001b[1;34m\u001b[0m\n\u001b[0;32m      2\u001b[0m \u001b[0marr2\u001b[0m\u001b[1;33m=\u001b[0m\u001b[1;33m[\u001b[0m\u001b[1;33m]\u001b[0m\u001b[1;33m\u001b[0m\u001b[1;33m\u001b[0m\u001b[0m\n\u001b[0;32m      3\u001b[0m \u001b[1;32mfor\u001b[0m \u001b[0mi\u001b[0m \u001b[1;32min\u001b[0m \u001b[0mrange\u001b[0m\u001b[1;33m(\u001b[0m\u001b[1;36m0\u001b[0m\u001b[1;33m,\u001b[0m\u001b[0mlen\u001b[0m\u001b[1;33m(\u001b[0m\u001b[0marr\u001b[0m\u001b[1;33m)\u001b[0m\u001b[1;33m)\u001b[0m\u001b[1;33m:\u001b[0m\u001b[1;33m\u001b[0m\u001b[1;33m\u001b[0m\u001b[0m\n\u001b[1;32m----> 4\u001b[1;33m     \u001b[0marr2\u001b[0m\u001b[1;33m[\u001b[0m\u001b[0mi\u001b[0m\u001b[1;33m]\u001b[0m\u001b[1;33m=\u001b[0m\u001b[0marr\u001b[0m\u001b[1;33m[\u001b[0m\u001b[0mi\u001b[0m\u001b[1;33m]\u001b[0m\u001b[1;33m\u001b[0m\u001b[1;33m\u001b[0m\u001b[0m\n\u001b[0m\u001b[0;32m      5\u001b[0m \u001b[1;33m\u001b[0m\u001b[0m\n\u001b[0;32m      6\u001b[0m \u001b[0mprint\u001b[0m\u001b[1;33m(\u001b[0m\u001b[0marr2\u001b[0m\u001b[1;33m)\u001b[0m\u001b[1;33m\u001b[0m\u001b[1;33m\u001b[0m\u001b[0m\n",
      "\u001b[1;31mIndexError\u001b[0m: list assignment index out of range"
     ]
    }
   ],
   "source": [
    "arr= [1,2,4,5]\n",
    "arr2=[]\n",
    "for i in range(0,len(arr)):\n",
    "    arr2[i]=arr[i]\n",
    "\n",
    "print(arr2)\n"
   ]
  },
  {
   "cell_type": "code",
   "execution_count": 65,
   "metadata": {},
   "outputs": [
    {
     "name": "stdout",
     "output_type": "stream",
     "text": [
      "cat\n",
      "cta\n",
      "act\n",
      "atc\n",
      "tac\n",
      "tca\n",
      "None\n"
     ]
    }
   ],
   "source": [
    "def get_permutation(string, i=0):\n",
    "\n",
    "    if i == len(string):   \t \n",
    "        print(\"\".join(string))\n",
    "\n",
    "    for j in range(i, len(string)):\n",
    "\n",
    "        words = [c for c in string]\n",
    "   \n",
    "        # swap\n",
    "        words[i], words[j] = words[j], words[i]\n",
    "   \t \n",
    "        get_permutation(words, i + 1)\n",
    "\n",
    "print(get_permutation('cat'))"
   ]
  },
  {
   "cell_type": "code",
   "execution_count": 13,
   "metadata": {},
   "outputs": [
    {
     "name": "stdout",
     "output_type": "stream",
     "text": [
      "All possible strings are : \n",
      "my ym "
     ]
    }
   ],
   "source": [
    "def permute(s, answer):\n",
    "\tif (len(s) == 0):\n",
    "\t\tprint(answer, end = \" \")\n",
    "\t\treturn\n",
    "\t\n",
    "\tfor i in range(len(s)):\n",
    "\t\tch = s[i]\n",
    "\t\tleft_substr = s[0:i]\n",
    "\t\tright_substr = s[i + 1:]\n",
    "\t\trest = left_substr + right_substr \n",
    "\t\tpermute(rest, answer + ch)\n",
    "\n",
    "# Driver Code\n",
    "answer = \"\"\n",
    "\n",
    "s = \"my\"\n",
    "\n",
    "print(\"All possible strings are : \")\n",
    "permute(s, answer)\n",
    "\n",
    "\n"
   ]
  },
  {
   "cell_type": "code",
   "execution_count": 3,
   "metadata": {},
   "outputs": [
    {
     "name": "stdout",
     "output_type": "stream",
     "text": [
      "varun 5 varun 5 varun 5 varun 5 varun 5 "
     ]
    }
   ],
   "source": [
    "for i in range(5):\n",
    "    print(\"varun\", end=\" 5 \")"
   ]
  },
  {
   "cell_type": "code",
   "execution_count": 4,
   "metadata": {},
   "outputs": [
    {
     "name": "stdout",
     "output_type": "stream",
     "text": [
      "0\n",
      "1\n",
      "2\n",
      "3\n",
      "4\n"
     ]
    }
   ],
   "source": [
    "for i in range(5):\n",
    "    print(i)"
   ]
  },
  {
   "cell_type": "code",
   "execution_count": 6,
   "metadata": {},
   "outputs": [
    {
     "name": "stdout",
     "output_type": "stream",
     "text": [
      "v\n",
      "a\n",
      "r\n",
      "u\n",
      "n\n"
     ]
    }
   ],
   "source": [
    "s=\"varun\"\n",
    "for i in range(5) :\n",
    "    print(s[i])"
   ]
  },
  {
   "cell_type": "code",
   "execution_count": 11,
   "metadata": {},
   "outputs": [
    {
     "name": "stdout",
     "output_type": "stream",
     "text": [
      "varun\n"
     ]
    }
   ],
   "source": [
    "s=\"varun\"\n",
    "print(s[0:])"
   ]
  },
  {
   "cell_type": "code",
   "execution_count": 4,
   "metadata": {},
   "outputs": [
    {
     "name": "stdout",
     "output_type": "stream",
     "text": [
      "Given Year is a leap Year\n"
     ]
    }
   ],
   "source": [
    "# check leap year  \n",
    "def CheckLeap(Year):  \n",
    "  if((Year % 400 == 0) or  \n",
    "     (Year % 100 != 0) and  \n",
    "     (Year % 4 == 0)):   \n",
    "    print(\"Given Year is a leap Year\");  \n",
    "  else:  \n",
    "    print (\"Given Year is not a leap Year\")    \n",
    "Year = int(input(\"Enter the number: \"))   \n",
    "CheckLeap(Year)  "
   ]
  },
  {
   "cell_type": "code",
   "execution_count": 11,
   "metadata": {},
   "outputs": [
    {
     "name": "stdout",
     "output_type": "stream",
     "text": [
      "The 0.00 degree Celsius is equal to: 32.00 Fahrenheit\n"
     ]
    }
   ],
   "source": [
    "celsius = float(input(\"Temperature value in degree Celsius: \" ))  \n",
    "    \n",
    "Fahrenheit = (celsius * 1.8) + 32  \n",
    "    \n",
    "\n",
    "print('The %.2f degree Celsius is equal to: %.2f Fahrenheit'  \n",
    "      %(celsius, Fahrenheit))  \n"
   ]
  },
  {
   "cell_type": "code",
   "execution_count": 12,
   "metadata": {},
   "outputs": [
    {
     "name": "stdout",
     "output_type": "stream",
     "text": [
      "this is cel 6 and this is fer 9\n"
     ]
    }
   ],
   "source": [
    "cel=6\n",
    "fer=9\n",
    "print(\"this is cel %d and this is fer %d\" %(cel,fer))"
   ]
  },
  {
   "cell_type": "code",
   "execution_count": 13,
   "metadata": {},
   "outputs": [
    {
     "name": "stdout",
     "output_type": "stream",
     "text": [
      "42.8\n"
     ]
    }
   ],
   "source": [
    "celsius = int(input(\"Give celsius value\"))\n",
    "\n",
    "far = ( cel * 1.8 )+32 \n",
    "print(far)"
   ]
  },
  {
   "cell_type": "code",
   "execution_count": 18,
   "metadata": {},
   "outputs": [
    {
     "name": "stdout",
     "output_type": "stream",
     "text": [
      "7.2222222215\n"
     ]
    }
   ],
   "source": [
    "fa=45\n",
    "Celsius = ((fa-32)*0.5555555555)\n",
    "print(Celsius)"
   ]
  },
  {
   "cell_type": "code",
   "execution_count": 16,
   "metadata": {},
   "outputs": [
    {
     "data": {
      "text/plain": [
       "0.5555555555555556"
      ]
     },
     "execution_count": 16,
     "metadata": {},
     "output_type": "execute_result"
    }
   ],
   "source": [
    "5/9"
   ]
  },
  {
   "cell_type": "code",
   "execution_count": 19,
   "metadata": {},
   "outputs": [
    {
     "name": "stdout",
     "output_type": "stream",
     "text": [
      "2\n",
      "4\n",
      "5\n",
      "6\n",
      "7\n"
     ]
    }
   ],
   "source": [
    "ls=[2,4,5,6,7]\n",
    "for i in ls:\n",
    "    print(i)"
   ]
  },
  {
   "cell_type": "code",
   "execution_count": 20,
   "metadata": {},
   "outputs": [],
   "source": [
    "class Node:\n",
    "   def __init__(self, dataval=None):\n",
    "      self.dataval = dataval\n",
    "      self.nextval = None\n",
    "\n",
    "class SLinkedList:\n",
    "   def __init__(self):\n",
    "      self.headval = None\n",
    "\n",
    "list1 = SLinkedList()\n",
    "list1.headval = Node(\"Mon\")\n",
    "e2 = Node(\"Tue\")\n",
    "e3 = Node(\"Wed\")\n",
    "# Link first Node to second node\n",
    "list1.headval.nextval = e2\n",
    "\n",
    "# Link second Node to third node\n",
    "e2.nextval = e3"
   ]
  },
  {
   "cell_type": "code",
   "execution_count": 44,
   "metadata": {},
   "outputs": [
    {
     "name": "stdout",
     "output_type": "stream",
     "text": [
      "7\n"
     ]
    }
   ],
   "source": [
    "x = list(map(int, input(\"Enter multiple values: \").split()))\n",
    "N=x[0]\n",
    "y=x[1]\n",
    "x=N-y\n",
    "print(x)"
   ]
  },
  {
   "cell_type": "code",
   "execution_count": 33,
   "metadata": {},
   "outputs": [
    {
     "name": "stdout",
     "output_type": "stream",
     "text": [
      "12 3\n"
     ]
    }
   ],
   "source": [
    "N , x = input().split() # \n",
    "print( N, x)"
   ]
  },
  {
   "cell_type": "code",
   "execution_count": 47,
   "metadata": {},
   "outputs": [
    {
     "name": "stdout",
     "output_type": "stream",
     "text": [
      "1 2\n",
      "-1\n"
     ]
    }
   ],
   "source": [
    " n , y = map(int, input(\"put it \").split())\n",
    " print(n,y)\n",
    " x = n-y \n",
    " print(x)"
   ]
  },
  {
   "cell_type": "code",
   "execution_count": null,
   "metadata": {},
   "outputs": [],
   "source": []
  },
  {
   "cell_type": "code",
   "execution_count": 67,
   "metadata": {},
   "outputs": [
    {
     "name": "stdout",
     "output_type": "stream",
     "text": [
      "Total chocolates N= 11\n",
      "Bob chocolates x= 4\n",
      "Alice chocolates y= 7\n",
      "Number of chocolates left in box are 9\n"
     ]
    }
   ],
   "source": [
    "#IDFC aptitude Alice and bob \n",
    "N , x = map(int, input(\"put it \").split())\n",
    "print(\"Total chocolates N=\", N)\n",
    "print(\"Bob chocolates x=\", x)\n",
    "y=N-x\n",
    "print(\"Alice chocolates y=\",y)\n",
    "box=0\n",
    "while (x!=0 and y!=0) and x!=y:\n",
    "    if x > y : \n",
    "        x = x - y\n",
    "        box = box + y \n",
    "                \n",
    "    else :\n",
    "        y = y - x\n",
    "        box = box + x\n",
    "        \n",
    "print(\"Number of chocolates left in box are\", box)\n"
   ]
  },
  {
   "cell_type": "code",
   "execution_count": 1,
   "metadata": {},
   "outputs": [],
   "source": [
    "# A simple Python program to introduce a linked list\n",
    "\n",
    "# Node class\n",
    "class Node:\n",
    "\n",
    "\t# Function to initialise the node object\n",
    "\tdef __init__(self, data):\n",
    "\t\tself.data = data # Assign data\n",
    "\t\tself.next = None # Initialize next as null\n",
    "\n",
    "\n",
    "# Linked List class contains a Node object\n",
    "class LinkedList:\n",
    "\n",
    "\t# Function to initialize head\n",
    "\tdef __init__(self):\n",
    "\t\tself.head = None\n",
    "\n",
    "\n",
    "# Code execution starts here\n",
    "if __name__=='__main__':\n",
    "\n",
    "\t# Start with the empty list\n",
    "\tllist = LinkedList()\n",
    "\n",
    "\tllist.head = Node(1)\n",
    "\tsecond = Node(2)\n",
    "\tthird = Node(3)\n",
    "\n",
    "\t'''\n",
    "\tThree nodes have been created.\n",
    "\tWe have references to these three blocks as head,\n",
    "\tsecond and third\n",
    "\n",
    "\tllist.head\t second\t\t\t third\n",
    "\t\t|\t\t\t |\t\t\t\t |\n",
    "\t\t|\t\t\t |\t\t\t\t |\n",
    "\t+----+------+\t +----+------+\t +----+------+\n",
    "\t| 1 | None |\t | 2 | None |\t | 3 | None |\n",
    "\t+----+------+\t +----+------+\t +----+------+\n",
    "\t'''\n",
    "\n",
    "\tllist.head.next = second; # Link first node with second\n",
    "\n",
    "\t'''\n",
    "\tNow next of first Node refers to second. So they\n",
    "\tboth are linked.\n",
    "\n",
    "\tllist.head\t second\t\t\t third\n",
    "\t\t|\t\t\t |\t\t\t\t |\n",
    "\t\t|\t\t\t |\t\t\t\t |\n",
    "\t+----+------+\t +----+------+\t +----+------+\n",
    "\t| 1 | o-------->| 2 | null |\t | 3 | null |\n",
    "\t+----+------+\t +----+------+\t +----+------+\n",
    "\t'''\n",
    "\n",
    "\tsecond.next = third; # Link second node with the third node\n",
    "\n",
    "\t'''\n",
    "\tNow next of second Node refers to third. So all three\n",
    "\tnodes are linked.\n",
    "\n",
    "\tllist.head\t second\t\t\t third\n",
    "\t\t|\t\t\t |\t\t\t\t |\n",
    "\t\t|\t\t\t |\t\t\t\t |\n",
    "\t+----+------+\t +----+------+\t +----+------+\n",
    "\t| 1 | o-------->| 2 | o-------->| 3 | null |\n",
    "\t+----+------+\t +----+------+\t +----+------+\n",
    "\t'''\n"
   ]
  },
  {
   "cell_type": "code",
   "execution_count": 4,
   "metadata": {},
   "outputs": [
    {
     "name": "stdout",
     "output_type": "stream",
     "text": [
      "Address of self =  2297983792368\n",
      "Address of class object =  2297983792368\n"
     ]
    }
   ],
   "source": [
    "#it is clearly seen that self and obj is referring to the same object\n",
    "\n",
    "class check:\n",
    "\tdef __init__(self):\n",
    "\t\tprint(\"Address of self = \",id(self))\n",
    "\n",
    "obj = check()\n",
    "print(\"Address of class object = \",id(obj))\n",
    "\n",
    "# this code is Contributed by Samyak Jain\n"
   ]
  },
  {
   "cell_type": "code",
   "execution_count": 5,
   "metadata": {},
   "outputs": [
    {
     "ename": "TypeError",
     "evalue": "__init__() missing 1 required positional argument: 'color'",
     "output_type": "error",
     "traceback": [
      "\u001b[1;31m---------------------------------------------------------------------------\u001b[0m",
      "\u001b[1;31mTypeError\u001b[0m                                 Traceback (most recent call last)",
      "\u001b[1;32m<ipython-input-5-14c3338a6baa>\u001b[0m in \u001b[0;36m<module>\u001b[1;34m\u001b[0m\n\u001b[0;32m     14\u001b[0m \u001b[1;31m# both objects have different self which\u001b[0m\u001b[1;33m\u001b[0m\u001b[1;33m\u001b[0m\u001b[1;33m\u001b[0m\u001b[0m\n\u001b[0;32m     15\u001b[0m \u001b[1;31m# contain their attributes\u001b[0m\u001b[1;33m\u001b[0m\u001b[1;33m\u001b[0m\u001b[1;33m\u001b[0m\u001b[0m\n\u001b[1;32m---> 16\u001b[1;33m \u001b[0maudi\u001b[0m \u001b[1;33m=\u001b[0m \u001b[0mcar\u001b[0m\u001b[1;33m(\u001b[0m \u001b[0minput\u001b[0m\u001b[1;33m(\u001b[0m\u001b[1;33m)\u001b[0m \u001b[1;32mfor\u001b[0m \u001b[0mx\u001b[0m \u001b[1;32min\u001b[0m \u001b[0mrange\u001b[0m\u001b[1;33m(\u001b[0m\u001b[1;36m2\u001b[0m\u001b[1;33m)\u001b[0m\u001b[1;33m)\u001b[0m\u001b[1;33m\u001b[0m\u001b[1;33m\u001b[0m\u001b[0m\n\u001b[0m\u001b[0;32m     17\u001b[0m \u001b[0mferrari\u001b[0m \u001b[1;33m=\u001b[0m \u001b[0mcar\u001b[0m\u001b[1;33m(\u001b[0m\u001b[1;34m\"ferrari 488\"\u001b[0m\u001b[1;33m,\u001b[0m \u001b[1;34m\"green\"\u001b[0m\u001b[1;33m)\u001b[0m\u001b[1;33m\u001b[0m\u001b[1;33m\u001b[0m\u001b[0m\n\u001b[0;32m     18\u001b[0m \u001b[1;33m\u001b[0m\u001b[0m\n",
      "\u001b[1;31mTypeError\u001b[0m: __init__() missing 1 required positional argument: 'color'"
     ]
    }
   ],
   "source": [
    "# Write Python3 code here\n",
    "\n",
    "class car():\n",
    "\t\n",
    "\t# init method or constructor\n",
    "\tdef __init__(self, model, color):\n",
    "\t\tself.model = model\n",
    "\t\tself.color = color\n",
    "\t\t\n",
    "\tdef show(self):\n",
    "\t\tprint(\"Model is\", self.model )\n",
    "\t\tprint(\"color is\", self.color )\n",
    "\t\t\n",
    "# both objects have different self which\n",
    "# contain their attributes\n",
    "audi = car()\n",
    "ferrari = car(\"ferrari 488\", \"green\")\n",
    "\n",
    "audi.show()\t # same output as car.show(audi)\n",
    "ferrari.show() # same output as car.show(ferrari)\n",
    "\n",
    "# Behind the scene, in every instance method\n",
    "# call, python sends the instances also with\n",
    "# that method call like car.show(audi)\n"
   ]
  },
  {
   "cell_type": "code",
   "execution_count": 15,
   "metadata": {},
   "outputs": [
    {
     "data": {
      "text/plain": [
       "'hddhd'"
      ]
     },
     "execution_count": 15,
     "metadata": {},
     "output_type": "execute_result"
    }
   ],
   "source": [
    "class car():\n",
    "    def __init__(self,model,price):\n",
    "        self.model = model \n",
    "        self.price = price \n",
    "\n",
    "obj = car(\"hi\",\"by\")\n",
    "obj.model\n",
    "obj.price = \"hddhd\" \n",
    "obj.price\n"
   ]
  },
  {
   "cell_type": "code",
   "execution_count": 26,
   "metadata": {},
   "outputs": [
    {
     "name": "stdout",
     "output_type": "stream",
     "text": [
      "1 "
     ]
    }
   ],
   "source": [
    "class node:\n",
    "    def __init__(self,data):\n",
    "        self.data=data\n",
    "        self.next=None\n",
    "\n",
    "class LinkedList:\n",
    "    def __init__(self):\n",
    "        self.start = None \n",
    "    def insertit(self,value):\n",
    "        newnode = node(value)\n",
    "        if self.start == None :\n",
    "            self.start = newnode\n",
    "        else:\n",
    "            temp = self.start\n",
    "            while temp != None:\n",
    "                temp = temp.next \n",
    "            temp = newnode\n",
    "            # print(\"inserted after head\") \n",
    "    def viewList(self):\n",
    "        if self.start==None:\n",
    "            print(\"List is empty\")\n",
    "        else:\n",
    "            temp = self.start\n",
    "            while temp != None:\n",
    "                print(temp.data,end = \" \")\n",
    "                temp =  temp.next \n",
    "            \n",
    "\n",
    "\n",
    "myobj = LinkedList()\n",
    "myobj.insertit(1)\n",
    "myobj.insertit(2)\n",
    "myobj.insertit(3)\n",
    "myobj.viewList()\n"
   ]
  },
  {
   "cell_type": "code",
   "execution_count": 29,
   "metadata": {},
   "outputs": [
    {
     "name": "stdout",
     "output_type": "stream",
     "text": [
      "1 2 3 "
     ]
    }
   ],
   "source": [
    "class node:\n",
    "    def __init__( self , data ):\n",
    "        self.data = data \n",
    "        self.next = None\n",
    "\n",
    "class LinkedList:\n",
    "    def __init__(self):\n",
    "        self.start = None\n",
    "\n",
    "    def viewList(self):\n",
    "        if self.start==None:\n",
    "            print(\"List is empty\")\n",
    "        else:\n",
    "            temp = self.start\n",
    "            while temp != None:\n",
    "                print(temp.data,end = \" \")\n",
    "                temp =  temp.next \n",
    "\n",
    "    def deleteFirst(self):\n",
    "        if self.start==None:\n",
    "            print(\"linkedlist is empty\")\n",
    "        else:\n",
    "            self.start = self.start.next\n",
    "    \n",
    "    def insertLast(self,value) : \n",
    "        newNode = node(value)\n",
    "        if(self.start==None):\n",
    "            self.start=newNode\n",
    "        else:\n",
    "            temp = self.start\n",
    "            while temp.next!=None:\n",
    "                temp = temp.next\n",
    "            temp.next = newNode \n",
    "\n",
    "\n",
    "new = LinkedList() \n",
    "new.insertLast(1)\n",
    "new.insertLast(2)\n",
    "new.insertLast(3)\n",
    "new.viewList()\n",
    "        \n",
    "# How do you enter a value into the class and methods ? You first make a object of that class \n",
    "# and then call methods off that object , you cannot call method without object .\n",
    "\n",
    "               \n"
   ]
  },
  {
   "cell_type": "code",
   "execution_count": null,
   "metadata": {},
   "outputs": [],
   "source": []
  },
  {
   "cell_type": "code",
   "execution_count": 33,
   "metadata": {},
   "outputs": [
    {
     "name": "stdout",
     "output_type": "stream",
     "text": [
      "10\n",
      "20\n",
      "30\n",
      "40\n"
     ]
    }
   ],
   "source": [
    "class Node:\n",
    "   def __init__(self, dataval=None):\n",
    "      self.dataval = dataval\n",
    "      self.nextval = None\n",
    "class SLinkedList:\n",
    "   def __init__(self):\n",
    "      self.headval = None\n",
    "# Function to add newnode\n",
    "   def AtEnd(self, newdata):\n",
    "      NewNode = Node(newdata)\n",
    "      if self.headval is None:\n",
    "         self.headval = NewNode\n",
    "         return\n",
    "      laste = self.headval\n",
    "      while(laste.nextval):\n",
    "         laste = laste.nextval\n",
    "      laste.nextval=NewNode\n",
    "# Print the linked list\n",
    "   def listprint(self):\n",
    "      printval = self.headval\n",
    "      while printval is not None:\n",
    "         print (printval.dataval)\n",
    "         printval = printval.nextval\n",
    "\n",
    "# list = SLinkedList()\n",
    "# list.headval = Node(\"Mon\")\n",
    "# e2 = Node(\"Tue\")\n",
    "# e3 = Node(\"Wed\")\n",
    "\n",
    "# list.headval.nextval = e2\n",
    "# e2.nextval = e3\n",
    "\n",
    "# list.AtEnd(\"Thu\")\n",
    "\n",
    "# list.listprint()\n",
    "\n",
    "wow = SLinkedList()\n",
    "wow.AtEnd(10)\n",
    "wow.AtEnd(20)\n",
    "wow.AtEnd(30)\n",
    "wow.AtEnd(40)\n",
    "wow.listprint()\n"
   ]
  },
  {
   "cell_type": "code",
   "execution_count": 34,
   "metadata": {},
   "outputs": [
    {
     "name": "stdout",
     "output_type": "stream",
     "text": [
      "Count of nodes present in circular linked list: \n",
      "6\n"
     ]
    }
   ],
   "source": [
    "#Represents the node of the list.    \n",
    "class Node:    \n",
    "    def __init__(self,data):    \n",
    "        self.data = data;    \n",
    "        self.next = None;    \n",
    "     \n",
    "class CreateList:    \n",
    "    #Declaring head and tail pointer as null.    \n",
    "    def __init__(self):    \n",
    "        self.count = 0;    \n",
    "        self.head = Node(None);    \n",
    "        self.tail = Node(None);    \n",
    "        self.head.next = self.tail;    \n",
    "        self.tail.next = self.head;    \n",
    "        \n",
    "    #This function will add the new node at the end of the list.    \n",
    "    def add(self,data):    \n",
    "        newNode = Node(data);    \n",
    "        #Checks if the list is empty.    \n",
    "        if self.head.data is None:    \n",
    "            #If list is empty, both head and tail would point to new node.    \n",
    "            self.head = newNode;    \n",
    "            self.tail = newNode;    \n",
    "            newNode.next = self.head;    \n",
    "        else:    \n",
    "            #tail will point to new node.    \n",
    "            self.tail.next = newNode;    \n",
    "            #New node will become new tail.    \n",
    "            self.tail = newNode;    \n",
    "            #Since, it is circular linked list tail will point to head.    \n",
    "            self.tail.next = self.head;    \n",
    "                \n",
    "    #This function will count the nodes of circular linked list    \n",
    "    def countNodes(self):    \n",
    "        current = self.head;    \n",
    "        self.count=self.count+1;    \n",
    "        while(current.next != self.head):    \n",
    "            self.count=self.count+1;    \n",
    "            current = current.next;    \n",
    "        print(\"Count of nodes present in circular linked list: \"),    \n",
    "        print(self.count);    \n",
    "        \n",
    "     \n",
    "class CircularLinkedList:    \n",
    "    cl = CreateList();    \n",
    "    #Adds data to the list    \n",
    "    cl.add(1);    \n",
    "    cl.add(2);    \n",
    "    cl.add(4);    \n",
    "    cl.add(1);    \n",
    "    cl.add(2);    \n",
    "    cl.add(3);    \n",
    "    #Displays all the nodes present in the list    \n",
    "    cl.countNodes();    "
   ]
  },
  {
   "cell_type": "code",
   "execution_count": 40,
   "metadata": {},
   "outputs": [
    {
     "name": "stdout",
     "output_type": "stream",
     "text": [
      "Count of nodes present in circular linked list: \n",
      "6\n"
     ]
    }
   ],
   "source": [
    "#Represents the node of the list.    \n",
    "class Node:    \n",
    "    def __init__(self,data):    \n",
    "        self.data = data;    \n",
    "        self.next = None;    \n",
    "     \n",
    "class CreateList:    \n",
    "    #Declaring head and tail pointer as null.    \n",
    "    def __init__(self):    \n",
    "        self.count = 0;    \n",
    "        self.head = Node(None);    \n",
    "        self.tail = Node(None);    \n",
    "        self.head.next = self.tail;    \n",
    "        self.tail.next = self.head;    \n",
    "        \n",
    "    #This function will add the new node at the end of the list.    \n",
    "    def add(self,data):    \n",
    "        newNode = Node(data);    \n",
    "        #Checks if the list is empty.    \n",
    "        if self.head.data is None:    \n",
    "            #If list is empty, both head and tail would point to new node.    \n",
    "            self.head = newNode;    \n",
    "            self.tail = newNode;    \n",
    "            newNode.next = self.head;    \n",
    "        else:    \n",
    "            #tail will point to new node.    \n",
    "            self.tail.next = newNode;    #this is to point existing tail to new one \n",
    "            #New node will become new tail.    \n",
    "            self.tail = newNode;    \n",
    "            #Since, it is circular linked list tail will point to head.    \n",
    "            self.tail.next = self.head;    \n",
    "                \n",
    "    #This function will count the nodes of circular linked list    \n",
    "    def countNodes(self):    \n",
    "        current = self.head;    \n",
    "        self.count=self.count+1;    \n",
    "        while(current.next != self.head):    \n",
    "            self.count=self.count+1;    \n",
    "            current = current.next;    \n",
    "        print(\"Count of nodes present in circular linked list: \"),    \n",
    "        print(self.count);    \n",
    "        \n",
    "     \n",
    "class CircularLinkedList:    \n",
    "    cl = CreateList();    \n",
    "    #Adds data to the list    \n",
    "    cl.add(1);    \n",
    "    cl.add(2);    \n",
    "    cl.add(4);    \n",
    "    cl.add(1);    \n",
    "    cl.add(2);    \n",
    "    cl.add(3);    \n",
    "    #Displays all the nodes present in the list    \n",
    "    cl.countNodes();    "
   ]
  },
  {
   "cell_type": "code",
   "execution_count": 9,
   "metadata": {},
   "outputs": [
    {
     "name": "stdout",
     "output_type": "stream",
     "text": [
      "3\n"
     ]
    }
   ],
   "source": [
    "# a circular linkedlist which and return the count of the nodes in it \n",
    "# try to get count in a non circular linkedlist \n",
    "# add , count nodes , \n",
    "\n",
    "class Node :\n",
    "    def __init__(self,data):\n",
    "        self.data=data\n",
    "        self.next=None\n",
    "\n",
    "class Linkedlist:\n",
    "    def __init__(self):\n",
    "        self.head=Node(None)\n",
    "        self.tail=Node(None)\n",
    "        self.head.next = self.tail\n",
    "        self.tail.next = self.head \n",
    "        self.count = 0\n",
    "\n",
    "    def add(self,value):\n",
    "        newnode=Node(value)\n",
    "        if self.head.data == None :\n",
    "            self.head = newnode\n",
    "            self.tail = newnode\n",
    "            newnode.next = self.head \n",
    "            \n",
    "        else:\n",
    "            self.tail.next = newnode \n",
    "            self.tail = newnode \n",
    "            self.tail.next = self.head \n",
    "\n",
    "    def counti(self):\n",
    "        self.count = self.count + 1 \n",
    "        counter = self.head \n",
    "        while counter.next != self.head:\n",
    "            self.count = self.count + 1 \n",
    "            counter = counter.next \n",
    "        print(self.count)\n",
    "            \n",
    "    def displayi(self):\n",
    "        if self.head.data == None :\n",
    "            print(\"nothin\")\n",
    "        else:\n",
    "            temp = self.head\n",
    "            while temp.next!=self.head :\n",
    "                print(temp.data)\n",
    "                temp =temp.next\n",
    "        \n",
    "\n",
    "\n",
    "obj = Linkedlist()\n",
    "obj.add(5)\n",
    "obj.add(4)\n",
    "obj.add(3)\n",
    "obj.counti()\n",
    "obj.displayi()\n",
    "\n",
    "\n",
    "\n",
    "\n",
    "\n",
    "\n",
    "\n",
    "\n",
    "\n",
    "\n",
    "\n",
    "\n",
    "#this is a circular linkedlist so think that way "
   ]
  },
  {
   "cell_type": "code",
   "execution_count": null,
   "metadata": {},
   "outputs": [],
   "source": []
  },
  {
   "cell_type": "code",
   "execution_count": null,
   "metadata": {},
   "outputs": [],
   "source": []
  }
 ],
 "metadata": {
  "interpreter": {
   "hash": "465cde816837ebe429f88df5187afc77915b9dab857882bcbfd3e5418c17744f"
  },
  "kernelspec": {
   "display_name": "Python 3.8.8 ('base')",
   "language": "python",
   "name": "python3"
  },
  "language_info": {
   "codemirror_mode": {
    "name": "ipython",
    "version": 3
   },
   "file_extension": ".py",
   "mimetype": "text/x-python",
   "name": "python",
   "nbconvert_exporter": "python",
   "pygments_lexer": "ipython3",
   "version": "3.8.8"
  },
  "orig_nbformat": 4
 },
 "nbformat": 4,
 "nbformat_minor": 2
}
